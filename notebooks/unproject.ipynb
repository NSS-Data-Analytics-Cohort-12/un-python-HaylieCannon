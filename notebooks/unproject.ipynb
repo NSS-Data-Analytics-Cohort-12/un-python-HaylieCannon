{
 "cells": [
  {
   "cell_type": "code",
   "execution_count": 1,
   "id": "10c17151-2adc-4e6b-99f3-92dc0a442dc9",
   "metadata": {},
   "outputs": [],
   "source": [
    "import pandas as pd\n",
    "import numpy as np\n",
    "import matplotlib.pyplot as plt\n",
    "import seaborn as sns"
   ]
  },
  {
   "cell_type": "markdown",
   "id": "40d6cf89-ff4a-43de-84ed-6d89b500ba29",
   "metadata": {},
   "source": [
    "# 4. Using the pandas `read_csv()` method, read the GDP dataset into your notebook as a DataFrame called `gdp_df`. \n",
    "# Take a look at the first few and last few rows to familiarize yourself with what is contained in this dataset."
   ]
  },
  {
   "cell_type": "code",
   "execution_count": 11,
   "id": "4d4e94ec-9486-4e17-99d0-d918ff9a8a69",
   "metadata": {},
   "outputs": [],
   "source": [
    "gdp_df = pd.read_csv(r'C:\\Users\\hayli\\Documents\\DA12\\Projects\\un-python-HaylieCannon\\data\\gdp_percapita.csv')"
   ]
  },
  {
   "cell_type": "markdown",
   "id": "73b64a15-d75d-41eb-9554-32753cb29287",
   "metadata": {},
   "source": [
    "# 5. How many rows and columns are in `gdp_df`? What are the data types of each column?\n",
    "# 5 columns and 7,662 rows. 1 object, 1 integer, 2 float"
   ]
  },
  {
   "cell_type": "code",
   "execution_count": 17,
   "id": "1e715f71-489d-4380-8371-801502bc6d60",
   "metadata": {},
   "outputs": [
    {
     "name": "stdout",
     "output_type": "stream",
     "text": [
      "<class 'pandas.core.frame.DataFrame'>\n",
      "RangeIndex: 7662 entries, 0 to 7661\n",
      "Data columns (total 4 columns):\n",
      " #   Column           Non-Null Count  Dtype  \n",
      "---  ------           --------------  -----  \n",
      " 0   Country or Area  7662 non-null   object \n",
      " 1   Year             7662 non-null   int64  \n",
      " 2   Value            7662 non-null   float64\n",
      " 3   Value Footnotes  0 non-null      float64\n",
      "dtypes: float64(2), int64(1), object(1)\n",
      "memory usage: 239.6+ KB\n"
     ]
    }
   ],
   "source": [
    "gdp_df.info()"
   ]
  },
  {
   "cell_type": "markdown",
   "id": "05789f3e-9bad-4ba2-aeb4-8fd44cc628e0",
   "metadata": {},
   "source": [
    "# 6. Drop the `Value Footnotes` column and rename the remaining three to 'Country', 'Year', and 'GDP_Per_Capita'."
   ]
  },
  {
   "cell_type": "code",
   "execution_count": 43,
   "id": "2e84c079-a484-4f1f-a48c-8e1d7d841ec4",
   "metadata": {},
   "outputs": [
    {
     "ename": "SyntaxError",
     "evalue": "invalid syntax (2995097174.py, line 1)",
     "output_type": "error",
     "traceback": [
      "\u001b[1;36m  Cell \u001b[1;32mIn[43], line 1\u001b[1;36m\u001b[0m\n\u001b[1;33m    gdp_df.rename(columns=['Country or Area': 'Country'], ['Value': 'GDP_Per_Capita'])\u001b[0m\n\u001b[1;37m                                            ^\u001b[0m\n\u001b[1;31mSyntaxError\u001b[0m\u001b[1;31m:\u001b[0m invalid syntax\n"
     ]
    }
   ],
   "source": [
    "gdp_df.rename(columns=['Country or Area': 'Country'], ['Value': 'GDP_Per_Capita'])\n"
   ]
  },
  {
   "cell_type": "markdown",
   "id": "c0ae923d-c914-49b0-a38b-921a17ec57dd",
   "metadata": {},
   "source": [
    "# 7. How many countries have data for all years? Which countries are missing many years of data? Look at the number of observations per year. \n",
    "# What do you notice?"
   ]
  },
  {
   "cell_type": "code",
   "execution_count": null,
   "id": "afa3a72c-f96b-411e-a031-7eadcce63a2a",
   "metadata": {},
   "outputs": [],
   "source": []
  }
 ],
 "metadata": {
  "kernelspec": {
   "display_name": "Python 3 (ipykernel)",
   "language": "python",
   "name": "python3"
  },
  "language_info": {
   "codemirror_mode": {
    "name": "ipython",
    "version": 3
   },
   "file_extension": ".py",
   "mimetype": "text/x-python",
   "name": "python",
   "nbconvert_exporter": "python",
   "pygments_lexer": "ipython3",
   "version": "3.12.4"
  }
 },
 "nbformat": 4,
 "nbformat_minor": 5
}
